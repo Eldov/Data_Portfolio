{
 "cells": [
  {
   "cell_type": "code",
   "execution_count": 117,
   "metadata": {},
   "outputs": [],
   "source": [
    "#Let's try in Python first!\n",
    "\n",
    "\n",
    "# Function Arguments: ShoppingList and if DiscountWeek active or not (by rule, it is false)\n",
    "def PriceBasket(ShoppingList, DiscountWeek=False):\n",
    "    # Setting subtotal variable\n",
    "    subtotal = 0\n",
    "    # Setting discount variable\n",
    "    discount = 0\n",
    "    # Setting strings to be shown after subtotal\n",
    "    promolist = [\"\\n(No offers available)\", f\"\\nApples 10% off: {'{:.2f}'.format(discount)}\", f\"\\nTwo Soups, Bread 50% off: {'{:.2f}'.format(discount)}\"]\n",
    "    nopromo = \"\\n(No offers available)\"\n",
    "    nsoup = 0\n",
    "    nbread = 0\n",
    "    promapple = \"\"\n",
    "    promosoup = \"\"\n",
    "    for item in list:\n",
    "        if item == 'Soup':\n",
    "           subtotal += 0.65\n",
    "           nsoup += 1\n",
    "        elif item == 'Bread':\n",
    "            subtotal += 0.80\n",
    "            nbread += 1\n",
    "        elif item == 'Milk':\n",
    "            subtotal += 1.30\n",
    "        elif item == 'Apples' and DiscountWeek==False:\n",
    "            subtotal += 1.00\n",
    "        elif item == 'Apples' and DiscountWeek==True:\n",
    "            subtotal += 1.00\n",
    "            discount += 0.10\n",
    "            promapple = promolist[1]\n",
    "        else:\n",
    "            raise Exception(\"Sorry, it seems we are out of some products in your list\")\n",
    "\n",
    "    if nsoup % 2==0:\n",
    "        discount+= 0.40*nbread\n",
    "        promosoup = promolist[2]\n",
    "\n",
    "    # if nsoup // 2 >= 1:\n",
    "    #     discount+= 0.40*nbread\n",
    "    #     promosoup = promolist[2]\n",
    "    \n",
    "        \n",
    "    total = subtotal-discount\n",
    "    # print(nbread)\n",
    "    # print(nsoup)\n",
    "    # print(discount)\n",
    "    print(f\"Subtotal: £{'{:.2f}'.format(subtotal)}{promapple}{promosoup}\\nTotal price: £{'{:.2f}'.format(total)}\")"
   ]
  },
  {
   "cell_type": "code",
   "execution_count": 119,
   "metadata": {},
   "outputs": [
    {
     "name": "stdout",
     "output_type": "stream",
     "text": [
      "Subtotal: £2.45\n",
      "Total price: £2.45\n"
     ]
    }
   ],
   "source": [
    "#Insert your items in the Shopping List\n",
    "list = ['Soup', 'Bread', 'Apples']\n",
    "#Is it a Discount Week? If yes, second argument as True and vice versa\n",
    "PriceBasket(list)"
   ]
  },
  {
   "cell_type": "code",
   "execution_count": 81,
   "metadata": {},
   "outputs": [],
   "source": [
    "def Subtotal(ShoppingList):\n",
    "    subtotal = 0\n",
    "    for item in ShoppingList:\n",
    "        if item == 'Soup':\n",
    "           subtotal += 0.65\n",
    "        elif item == 'Bread':\n",
    "            subtotal += 0.80\n",
    "        elif item == 'Milk':\n",
    "            subtotal += 1.30\n",
    "        elif item == 'Apples':\n",
    "            subtotal += 1.00\n",
    "        else:\n",
    "            raise Exception(\"Sorry, it seems we are out of some products in your list\")\n",
    "    return subtotal"
   ]
  },
  {
   "cell_type": "code",
   "execution_count": 62,
   "metadata": {},
   "outputs": [],
   "source": [
    "def Discount(ShoppingList, DiscountWeek=False):\n",
    "    applediscount = 0\n",
    "    soupdiscount = 0\n",
    "    nsoup = 0\n",
    "    nbread = 0\n",
    "    for item in ShoppingList:\n",
    "        if item == 'Apples' and DiscountWeek==True:\n",
    "            applediscount += 0.10\n",
    "        elif item == 'Soup':\n",
    "           nsoup += 1\n",
    "        elif item == 'Bread':\n",
    "            nbread += 1\n",
    "\n",
    "    intsoup = nsoup//2\n",
    "    if intsoup >= 1 and nbread >= 1:\n",
    "        soupdiscount+= 0.40*min(intsoup,nbread)\n",
    "\n",
    "    return [applediscount, soupdiscount]"
   ]
  },
  {
   "cell_type": "code",
   "execution_count": 54,
   "metadata": {},
   "outputs": [],
   "source": [
    "def Offer(DiscountList):\n",
    "    promolist = [\"\\n(No offers available)\", f\"\\nApples 10% off: {'{:.2f}'.format(DiscountList[0])}\", f\"\\nTwo Soups, Bread 50% off: {'{:.2f}'.format(DiscountList[1])}\"]\n",
    "    offer = []\n",
    "    if DiscountList[0] != 0 and DiscountList[1] == 0:\n",
    "        offer.append(promolist[1])\n",
    "    elif DiscountList[0] != 0 and DiscountList[1] != 0:\n",
    "        offer.append(promolist[1])\n",
    "        offer.append(promolist[2])\n",
    "    elif DiscountList[0] == 0 and DiscountList[1] != 0:\n",
    "        offer.append(promolist[2])\n",
    "    else:\n",
    "        offer = \"\\n(No offers available)\"\n",
    "\n",
    "    return offer\n",
    "\n"
   ]
  },
  {
   "cell_type": "code",
   "execution_count": 55,
   "metadata": {},
   "outputs": [
    {
     "data": {
      "text/plain": [
       "['\\nApples 10% off: 1.00', '\\nTwo Soups, Bread 50% off: 2.00']"
      ]
     },
     "execution_count": 55,
     "metadata": {},
     "output_type": "execute_result"
    }
   ],
   "source": [
    "list = [1,2]\n",
    "Offer(list)"
   ]
  },
  {
   "cell_type": "code",
   "execution_count": 84,
   "metadata": {},
   "outputs": [],
   "source": [
    "def PriceBasket(ShoppingList, DiscountWeek=False):\n",
    "    subtotal = Subtotal(ShoppingList)\n",
    "    discountlist = Discount(ShoppingList, DiscountWeek)\n",
    "    offer = Offer(discountlist)\n",
    "    total = subtotal-sum(discountlist)\n",
    "    print(f\"Subtotal: £{'{:.2f}'.format(subtotal)}{''.join(offer)}\\nTotal price: £{'{:.2f}'.format(total)}\")"
   ]
  },
  {
   "cell_type": "code",
   "execution_count": 90,
   "metadata": {},
   "outputs": [
    {
     "name": "stdout",
     "output_type": "stream",
     "text": [
      "Subtotal: £4.90\n",
      "Apples 10% off: 0.20\n",
      "Two Soups, Bread 50% off: 0.40\n",
      "Total price: £4.30\n"
     ]
    }
   ],
   "source": [
    "ShoppingList = ['Apples', 'Apples', 'Soup', 'Soup', 'Bread', 'Bread']\n",
    "PriceBasket(ShoppingList, DiscountWeek=True)"
   ]
  }
 ],
 "metadata": {
  "kernelspec": {
   "display_name": "Python 3",
   "language": "python",
   "name": "python3"
  },
  "language_info": {
   "codemirror_mode": {
    "name": "ipython",
    "version": 3
   },
   "file_extension": ".py",
   "mimetype": "text/x-python",
   "name": "python",
   "nbconvert_exporter": "python",
   "pygments_lexer": "ipython3",
   "version": "3.10.11"
  },
  "orig_nbformat": 4
 },
 "nbformat": 4,
 "nbformat_minor": 2
}
